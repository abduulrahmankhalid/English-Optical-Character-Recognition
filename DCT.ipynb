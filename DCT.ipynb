{
 "cells": [
  {
   "cell_type": "code",
   "execution_count": 31,
   "id": "e3860c3b",
   "metadata": {},
   "outputs": [],
   "source": [
    "import numpy as np\n",
    "import pandas as pd\n",
    "import matplotlib.pyplot as plt\n",
    "from sklearn.tree import DecisionTreeClassifier\n",
    "from sklearn.metrics import accuracy_score\n",
    "from sklearn.metrics import confusion_matrix"
   ]
  },
  {
   "cell_type": "markdown",
   "id": "1bf49d13",
   "metadata": {},
   "source": [
    "### Importing the dataset"
   ]
  },
  {
   "cell_type": "code",
   "execution_count": 32,
   "id": "6aa24586",
   "metadata": {},
   "outputs": [],
   "source": [
    "#read train and test files\n",
    "train_file = pd.read_csv('emnist-letters-train.csv')\n",
    "test_file = pd.read_csv('emnist-letters-test.csv')"
   ]
  },
  {
   "cell_type": "markdown",
   "id": "c9d44be7",
   "metadata": {},
   "source": [
    "### Data Checking"
   ]
  },
  {
   "cell_type": "code",
   "execution_count": 33,
   "id": "e702f8e7",
   "metadata": {},
   "outputs": [
    {
     "data": {
      "text/html": [
       "<div>\n",
       "<style scoped>\n",
       "    .dataframe tbody tr th:only-of-type {\n",
       "        vertical-align: middle;\n",
       "    }\n",
       "\n",
       "    .dataframe tbody tr th {\n",
       "        vertical-align: top;\n",
       "    }\n",
       "\n",
       "    .dataframe thead th {\n",
       "        text-align: right;\n",
       "    }\n",
       "</style>\n",
       "<table border=\"1\" class=\"dataframe\">\n",
       "  <thead>\n",
       "    <tr style=\"text-align: right;\">\n",
       "      <th></th>\n",
       "      <th>23</th>\n",
       "      <th>0</th>\n",
       "      <th>0.1</th>\n",
       "      <th>0.2</th>\n",
       "      <th>0.3</th>\n",
       "      <th>0.4</th>\n",
       "      <th>0.5</th>\n",
       "      <th>0.6</th>\n",
       "      <th>0.7</th>\n",
       "      <th>0.8</th>\n",
       "      <th>...</th>\n",
       "      <th>0.406</th>\n",
       "      <th>0.407</th>\n",
       "      <th>0.408</th>\n",
       "      <th>0.409</th>\n",
       "      <th>0.410</th>\n",
       "      <th>0.411</th>\n",
       "      <th>0.412</th>\n",
       "      <th>0.413</th>\n",
       "      <th>0.414</th>\n",
       "      <th>0.415</th>\n",
       "    </tr>\n",
       "  </thead>\n",
       "  <tbody>\n",
       "    <tr>\n",
       "      <th>0</th>\n",
       "      <td>7</td>\n",
       "      <td>0</td>\n",
       "      <td>0</td>\n",
       "      <td>0</td>\n",
       "      <td>0</td>\n",
       "      <td>0</td>\n",
       "      <td>0</td>\n",
       "      <td>0</td>\n",
       "      <td>0</td>\n",
       "      <td>0</td>\n",
       "      <td>...</td>\n",
       "      <td>0</td>\n",
       "      <td>0</td>\n",
       "      <td>0</td>\n",
       "      <td>0</td>\n",
       "      <td>0</td>\n",
       "      <td>0</td>\n",
       "      <td>0</td>\n",
       "      <td>0</td>\n",
       "      <td>0</td>\n",
       "      <td>0</td>\n",
       "    </tr>\n",
       "    <tr>\n",
       "      <th>1</th>\n",
       "      <td>16</td>\n",
       "      <td>0</td>\n",
       "      <td>0</td>\n",
       "      <td>0</td>\n",
       "      <td>0</td>\n",
       "      <td>0</td>\n",
       "      <td>0</td>\n",
       "      <td>0</td>\n",
       "      <td>0</td>\n",
       "      <td>0</td>\n",
       "      <td>...</td>\n",
       "      <td>0</td>\n",
       "      <td>0</td>\n",
       "      <td>0</td>\n",
       "      <td>0</td>\n",
       "      <td>0</td>\n",
       "      <td>0</td>\n",
       "      <td>0</td>\n",
       "      <td>0</td>\n",
       "      <td>0</td>\n",
       "      <td>0</td>\n",
       "    </tr>\n",
       "    <tr>\n",
       "      <th>2</th>\n",
       "      <td>15</td>\n",
       "      <td>0</td>\n",
       "      <td>0</td>\n",
       "      <td>0</td>\n",
       "      <td>0</td>\n",
       "      <td>0</td>\n",
       "      <td>0</td>\n",
       "      <td>0</td>\n",
       "      <td>0</td>\n",
       "      <td>0</td>\n",
       "      <td>...</td>\n",
       "      <td>0</td>\n",
       "      <td>0</td>\n",
       "      <td>0</td>\n",
       "      <td>0</td>\n",
       "      <td>0</td>\n",
       "      <td>0</td>\n",
       "      <td>0</td>\n",
       "      <td>0</td>\n",
       "      <td>0</td>\n",
       "      <td>0</td>\n",
       "    </tr>\n",
       "    <tr>\n",
       "      <th>3</th>\n",
       "      <td>23</td>\n",
       "      <td>0</td>\n",
       "      <td>0</td>\n",
       "      <td>0</td>\n",
       "      <td>0</td>\n",
       "      <td>0</td>\n",
       "      <td>0</td>\n",
       "      <td>0</td>\n",
       "      <td>0</td>\n",
       "      <td>0</td>\n",
       "      <td>...</td>\n",
       "      <td>0</td>\n",
       "      <td>0</td>\n",
       "      <td>0</td>\n",
       "      <td>0</td>\n",
       "      <td>0</td>\n",
       "      <td>0</td>\n",
       "      <td>0</td>\n",
       "      <td>0</td>\n",
       "      <td>0</td>\n",
       "      <td>0</td>\n",
       "    </tr>\n",
       "    <tr>\n",
       "      <th>4</th>\n",
       "      <td>17</td>\n",
       "      <td>0</td>\n",
       "      <td>0</td>\n",
       "      <td>0</td>\n",
       "      <td>0</td>\n",
       "      <td>0</td>\n",
       "      <td>0</td>\n",
       "      <td>0</td>\n",
       "      <td>0</td>\n",
       "      <td>0</td>\n",
       "      <td>...</td>\n",
       "      <td>0</td>\n",
       "      <td>0</td>\n",
       "      <td>0</td>\n",
       "      <td>0</td>\n",
       "      <td>0</td>\n",
       "      <td>0</td>\n",
       "      <td>0</td>\n",
       "      <td>0</td>\n",
       "      <td>0</td>\n",
       "      <td>0</td>\n",
       "    </tr>\n",
       "  </tbody>\n",
       "</table>\n",
       "<p>5 rows × 785 columns</p>\n",
       "</div>"
      ],
      "text/plain": [
       "   23  0  0.1  0.2  0.3  0.4  0.5  0.6  0.7  0.8  ...  0.406  0.407  0.408  \\\n",
       "0   7  0    0    0    0    0    0    0    0    0  ...      0      0      0   \n",
       "1  16  0    0    0    0    0    0    0    0    0  ...      0      0      0   \n",
       "2  15  0    0    0    0    0    0    0    0    0  ...      0      0      0   \n",
       "3  23  0    0    0    0    0    0    0    0    0  ...      0      0      0   \n",
       "4  17  0    0    0    0    0    0    0    0    0  ...      0      0      0   \n",
       "\n",
       "   0.409  0.410  0.411  0.412  0.413  0.414  0.415  \n",
       "0      0      0      0      0      0      0      0  \n",
       "1      0      0      0      0      0      0      0  \n",
       "2      0      0      0      0      0      0      0  \n",
       "3      0      0      0      0      0      0      0  \n",
       "4      0      0      0      0      0      0      0  \n",
       "\n",
       "[5 rows x 785 columns]"
      ]
     },
     "execution_count": 33,
     "metadata": {},
     "output_type": "execute_result"
    }
   ],
   "source": [
    "#view first 5 records of train_file\n",
    "train_file.head()"
   ]
  },
  {
   "cell_type": "code",
   "execution_count": 34,
   "id": "07216c22",
   "metadata": {},
   "outputs": [
    {
     "data": {
      "text/html": [
       "<div>\n",
       "<style scoped>\n",
       "    .dataframe tbody tr th:only-of-type {\n",
       "        vertical-align: middle;\n",
       "    }\n",
       "\n",
       "    .dataframe tbody tr th {\n",
       "        vertical-align: top;\n",
       "    }\n",
       "\n",
       "    .dataframe thead th {\n",
       "        text-align: right;\n",
       "    }\n",
       "</style>\n",
       "<table border=\"1\" class=\"dataframe\">\n",
       "  <thead>\n",
       "    <tr style=\"text-align: right;\">\n",
       "      <th></th>\n",
       "      <th>1</th>\n",
       "      <th>0</th>\n",
       "      <th>0.1</th>\n",
       "      <th>0.2</th>\n",
       "      <th>0.3</th>\n",
       "      <th>0.4</th>\n",
       "      <th>0.5</th>\n",
       "      <th>0.6</th>\n",
       "      <th>0.7</th>\n",
       "      <th>0.8</th>\n",
       "      <th>...</th>\n",
       "      <th>0.548</th>\n",
       "      <th>0.549</th>\n",
       "      <th>0.550</th>\n",
       "      <th>0.551</th>\n",
       "      <th>0.552</th>\n",
       "      <th>0.553</th>\n",
       "      <th>0.554</th>\n",
       "      <th>0.555</th>\n",
       "      <th>0.556</th>\n",
       "      <th>0.557</th>\n",
       "    </tr>\n",
       "  </thead>\n",
       "  <tbody>\n",
       "    <tr>\n",
       "      <th>0</th>\n",
       "      <td>1</td>\n",
       "      <td>0</td>\n",
       "      <td>0</td>\n",
       "      <td>0</td>\n",
       "      <td>0</td>\n",
       "      <td>0</td>\n",
       "      <td>0</td>\n",
       "      <td>0</td>\n",
       "      <td>0</td>\n",
       "      <td>0</td>\n",
       "      <td>...</td>\n",
       "      <td>0</td>\n",
       "      <td>0</td>\n",
       "      <td>0</td>\n",
       "      <td>0</td>\n",
       "      <td>0</td>\n",
       "      <td>0</td>\n",
       "      <td>0</td>\n",
       "      <td>0</td>\n",
       "      <td>0</td>\n",
       "      <td>0</td>\n",
       "    </tr>\n",
       "    <tr>\n",
       "      <th>1</th>\n",
       "      <td>1</td>\n",
       "      <td>0</td>\n",
       "      <td>0</td>\n",
       "      <td>0</td>\n",
       "      <td>0</td>\n",
       "      <td>0</td>\n",
       "      <td>0</td>\n",
       "      <td>0</td>\n",
       "      <td>0</td>\n",
       "      <td>0</td>\n",
       "      <td>...</td>\n",
       "      <td>0</td>\n",
       "      <td>0</td>\n",
       "      <td>0</td>\n",
       "      <td>0</td>\n",
       "      <td>0</td>\n",
       "      <td>0</td>\n",
       "      <td>0</td>\n",
       "      <td>0</td>\n",
       "      <td>0</td>\n",
       "      <td>0</td>\n",
       "    </tr>\n",
       "    <tr>\n",
       "      <th>2</th>\n",
       "      <td>1</td>\n",
       "      <td>0</td>\n",
       "      <td>0</td>\n",
       "      <td>0</td>\n",
       "      <td>0</td>\n",
       "      <td>0</td>\n",
       "      <td>0</td>\n",
       "      <td>0</td>\n",
       "      <td>0</td>\n",
       "      <td>0</td>\n",
       "      <td>...</td>\n",
       "      <td>0</td>\n",
       "      <td>0</td>\n",
       "      <td>0</td>\n",
       "      <td>0</td>\n",
       "      <td>0</td>\n",
       "      <td>0</td>\n",
       "      <td>0</td>\n",
       "      <td>0</td>\n",
       "      <td>0</td>\n",
       "      <td>0</td>\n",
       "    </tr>\n",
       "    <tr>\n",
       "      <th>3</th>\n",
       "      <td>1</td>\n",
       "      <td>0</td>\n",
       "      <td>0</td>\n",
       "      <td>0</td>\n",
       "      <td>0</td>\n",
       "      <td>0</td>\n",
       "      <td>0</td>\n",
       "      <td>0</td>\n",
       "      <td>0</td>\n",
       "      <td>0</td>\n",
       "      <td>...</td>\n",
       "      <td>0</td>\n",
       "      <td>0</td>\n",
       "      <td>0</td>\n",
       "      <td>0</td>\n",
       "      <td>0</td>\n",
       "      <td>0</td>\n",
       "      <td>0</td>\n",
       "      <td>0</td>\n",
       "      <td>0</td>\n",
       "      <td>0</td>\n",
       "    </tr>\n",
       "    <tr>\n",
       "      <th>4</th>\n",
       "      <td>1</td>\n",
       "      <td>0</td>\n",
       "      <td>0</td>\n",
       "      <td>0</td>\n",
       "      <td>0</td>\n",
       "      <td>0</td>\n",
       "      <td>0</td>\n",
       "      <td>0</td>\n",
       "      <td>0</td>\n",
       "      <td>0</td>\n",
       "      <td>...</td>\n",
       "      <td>0</td>\n",
       "      <td>0</td>\n",
       "      <td>0</td>\n",
       "      <td>0</td>\n",
       "      <td>0</td>\n",
       "      <td>0</td>\n",
       "      <td>0</td>\n",
       "      <td>0</td>\n",
       "      <td>0</td>\n",
       "      <td>0</td>\n",
       "    </tr>\n",
       "  </tbody>\n",
       "</table>\n",
       "<p>5 rows × 785 columns</p>\n",
       "</div>"
      ],
      "text/plain": [
       "   1  0  0.1  0.2  0.3  0.4  0.5  0.6  0.7  0.8  ...  0.548  0.549  0.550  \\\n",
       "0  1  0    0    0    0    0    0    0    0    0  ...      0      0      0   \n",
       "1  1  0    0    0    0    0    0    0    0    0  ...      0      0      0   \n",
       "2  1  0    0    0    0    0    0    0    0    0  ...      0      0      0   \n",
       "3  1  0    0    0    0    0    0    0    0    0  ...      0      0      0   \n",
       "4  1  0    0    0    0    0    0    0    0    0  ...      0      0      0   \n",
       "\n",
       "   0.551  0.552  0.553  0.554  0.555  0.556  0.557  \n",
       "0      0      0      0      0      0      0      0  \n",
       "1      0      0      0      0      0      0      0  \n",
       "2      0      0      0      0      0      0      0  \n",
       "3      0      0      0      0      0      0      0  \n",
       "4      0      0      0      0      0      0      0  \n",
       "\n",
       "[5 rows x 785 columns]"
      ]
     },
     "execution_count": 34,
     "metadata": {},
     "output_type": "execute_result"
    }
   ],
   "source": [
    "test_file.head()"
   ]
  },
  {
   "cell_type": "markdown",
   "id": "8b558641",
   "metadata": {},
   "source": [
    "## Data Preprocessing"
   ]
  },
  {
   "cell_type": "code",
   "execution_count": 35,
   "id": "087a10ac",
   "metadata": {},
   "outputs": [
    {
     "data": {
      "text/html": [
       "<div>\n",
       "<style scoped>\n",
       "    .dataframe tbody tr th:only-of-type {\n",
       "        vertical-align: middle;\n",
       "    }\n",
       "\n",
       "    .dataframe tbody tr th {\n",
       "        vertical-align: top;\n",
       "    }\n",
       "\n",
       "    .dataframe thead th {\n",
       "        text-align: right;\n",
       "    }\n",
       "</style>\n",
       "<table border=\"1\" class=\"dataframe\">\n",
       "  <thead>\n",
       "    <tr style=\"text-align: right;\">\n",
       "      <th></th>\n",
       "      <th>label</th>\n",
       "      <th>0</th>\n",
       "      <th>0.1</th>\n",
       "      <th>0.2</th>\n",
       "      <th>0.3</th>\n",
       "      <th>0.4</th>\n",
       "      <th>0.5</th>\n",
       "      <th>0.6</th>\n",
       "      <th>0.7</th>\n",
       "      <th>0.8</th>\n",
       "      <th>...</th>\n",
       "      <th>0.406</th>\n",
       "      <th>0.407</th>\n",
       "      <th>0.408</th>\n",
       "      <th>0.409</th>\n",
       "      <th>0.410</th>\n",
       "      <th>0.411</th>\n",
       "      <th>0.412</th>\n",
       "      <th>0.413</th>\n",
       "      <th>0.414</th>\n",
       "      <th>0.415</th>\n",
       "    </tr>\n",
       "  </thead>\n",
       "  <tbody>\n",
       "    <tr>\n",
       "      <th>0</th>\n",
       "      <td>7</td>\n",
       "      <td>0</td>\n",
       "      <td>0</td>\n",
       "      <td>0</td>\n",
       "      <td>0</td>\n",
       "      <td>0</td>\n",
       "      <td>0</td>\n",
       "      <td>0</td>\n",
       "      <td>0</td>\n",
       "      <td>0</td>\n",
       "      <td>...</td>\n",
       "      <td>0</td>\n",
       "      <td>0</td>\n",
       "      <td>0</td>\n",
       "      <td>0</td>\n",
       "      <td>0</td>\n",
       "      <td>0</td>\n",
       "      <td>0</td>\n",
       "      <td>0</td>\n",
       "      <td>0</td>\n",
       "      <td>0</td>\n",
       "    </tr>\n",
       "    <tr>\n",
       "      <th>1</th>\n",
       "      <td>16</td>\n",
       "      <td>0</td>\n",
       "      <td>0</td>\n",
       "      <td>0</td>\n",
       "      <td>0</td>\n",
       "      <td>0</td>\n",
       "      <td>0</td>\n",
       "      <td>0</td>\n",
       "      <td>0</td>\n",
       "      <td>0</td>\n",
       "      <td>...</td>\n",
       "      <td>0</td>\n",
       "      <td>0</td>\n",
       "      <td>0</td>\n",
       "      <td>0</td>\n",
       "      <td>0</td>\n",
       "      <td>0</td>\n",
       "      <td>0</td>\n",
       "      <td>0</td>\n",
       "      <td>0</td>\n",
       "      <td>0</td>\n",
       "    </tr>\n",
       "    <tr>\n",
       "      <th>2</th>\n",
       "      <td>15</td>\n",
       "      <td>0</td>\n",
       "      <td>0</td>\n",
       "      <td>0</td>\n",
       "      <td>0</td>\n",
       "      <td>0</td>\n",
       "      <td>0</td>\n",
       "      <td>0</td>\n",
       "      <td>0</td>\n",
       "      <td>0</td>\n",
       "      <td>...</td>\n",
       "      <td>0</td>\n",
       "      <td>0</td>\n",
       "      <td>0</td>\n",
       "      <td>0</td>\n",
       "      <td>0</td>\n",
       "      <td>0</td>\n",
       "      <td>0</td>\n",
       "      <td>0</td>\n",
       "      <td>0</td>\n",
       "      <td>0</td>\n",
       "    </tr>\n",
       "    <tr>\n",
       "      <th>3</th>\n",
       "      <td>23</td>\n",
       "      <td>0</td>\n",
       "      <td>0</td>\n",
       "      <td>0</td>\n",
       "      <td>0</td>\n",
       "      <td>0</td>\n",
       "      <td>0</td>\n",
       "      <td>0</td>\n",
       "      <td>0</td>\n",
       "      <td>0</td>\n",
       "      <td>...</td>\n",
       "      <td>0</td>\n",
       "      <td>0</td>\n",
       "      <td>0</td>\n",
       "      <td>0</td>\n",
       "      <td>0</td>\n",
       "      <td>0</td>\n",
       "      <td>0</td>\n",
       "      <td>0</td>\n",
       "      <td>0</td>\n",
       "      <td>0</td>\n",
       "    </tr>\n",
       "    <tr>\n",
       "      <th>4</th>\n",
       "      <td>17</td>\n",
       "      <td>0</td>\n",
       "      <td>0</td>\n",
       "      <td>0</td>\n",
       "      <td>0</td>\n",
       "      <td>0</td>\n",
       "      <td>0</td>\n",
       "      <td>0</td>\n",
       "      <td>0</td>\n",
       "      <td>0</td>\n",
       "      <td>...</td>\n",
       "      <td>0</td>\n",
       "      <td>0</td>\n",
       "      <td>0</td>\n",
       "      <td>0</td>\n",
       "      <td>0</td>\n",
       "      <td>0</td>\n",
       "      <td>0</td>\n",
       "      <td>0</td>\n",
       "      <td>0</td>\n",
       "      <td>0</td>\n",
       "    </tr>\n",
       "  </tbody>\n",
       "</table>\n",
       "<p>5 rows × 785 columns</p>\n",
       "</div>"
      ],
      "text/plain": [
       "   label  0  0.1  0.2  0.3  0.4  0.5  0.6  0.7  0.8  ...  0.406  0.407  0.408  \\\n",
       "0      7  0    0    0    0    0    0    0    0    0  ...      0      0      0   \n",
       "1     16  0    0    0    0    0    0    0    0    0  ...      0      0      0   \n",
       "2     15  0    0    0    0    0    0    0    0    0  ...      0      0      0   \n",
       "3     23  0    0    0    0    0    0    0    0    0  ...      0      0      0   \n",
       "4     17  0    0    0    0    0    0    0    0    0  ...      0      0      0   \n",
       "\n",
       "   0.409  0.410  0.411  0.412  0.413  0.414  0.415  \n",
       "0      0      0      0      0      0      0      0  \n",
       "1      0      0      0      0      0      0      0  \n",
       "2      0      0      0      0      0      0      0  \n",
       "3      0      0      0      0      0      0      0  \n",
       "4      0      0      0      0      0      0      0  \n",
       "\n",
       "[5 rows x 785 columns]"
      ]
     },
     "execution_count": 35,
     "metadata": {},
     "output_type": "execute_result"
    }
   ],
   "source": [
    "#rename first column as label for both test and train set\n",
    "train_file.rename(columns={'23':'label'}, inplace=True)\n",
    "test_file.rename(columns={'1':'label'}, inplace=True)\n",
    "\n",
    "#check train data\n",
    "train_file.head()"
   ]
  },
  {
   "cell_type": "code",
   "execution_count": 36,
   "id": "9cd180c6",
   "metadata": {
    "scrolled": true
   },
   "outputs": [
    {
     "data": {
      "text/html": [
       "<div>\n",
       "<style scoped>\n",
       "    .dataframe tbody tr th:only-of-type {\n",
       "        vertical-align: middle;\n",
       "    }\n",
       "\n",
       "    .dataframe tbody tr th {\n",
       "        vertical-align: top;\n",
       "    }\n",
       "\n",
       "    .dataframe thead th {\n",
       "        text-align: right;\n",
       "    }\n",
       "</style>\n",
       "<table border=\"1\" class=\"dataframe\">\n",
       "  <thead>\n",
       "    <tr style=\"text-align: right;\">\n",
       "      <th></th>\n",
       "      <th>label</th>\n",
       "      <th>0</th>\n",
       "      <th>0.1</th>\n",
       "      <th>0.2</th>\n",
       "      <th>0.3</th>\n",
       "      <th>0.4</th>\n",
       "      <th>0.5</th>\n",
       "      <th>0.6</th>\n",
       "      <th>0.7</th>\n",
       "      <th>0.8</th>\n",
       "      <th>...</th>\n",
       "      <th>0.548</th>\n",
       "      <th>0.549</th>\n",
       "      <th>0.550</th>\n",
       "      <th>0.551</th>\n",
       "      <th>0.552</th>\n",
       "      <th>0.553</th>\n",
       "      <th>0.554</th>\n",
       "      <th>0.555</th>\n",
       "      <th>0.556</th>\n",
       "      <th>0.557</th>\n",
       "    </tr>\n",
       "  </thead>\n",
       "  <tbody>\n",
       "    <tr>\n",
       "      <th>0</th>\n",
       "      <td>1</td>\n",
       "      <td>0</td>\n",
       "      <td>0</td>\n",
       "      <td>0</td>\n",
       "      <td>0</td>\n",
       "      <td>0</td>\n",
       "      <td>0</td>\n",
       "      <td>0</td>\n",
       "      <td>0</td>\n",
       "      <td>0</td>\n",
       "      <td>...</td>\n",
       "      <td>0</td>\n",
       "      <td>0</td>\n",
       "      <td>0</td>\n",
       "      <td>0</td>\n",
       "      <td>0</td>\n",
       "      <td>0</td>\n",
       "      <td>0</td>\n",
       "      <td>0</td>\n",
       "      <td>0</td>\n",
       "      <td>0</td>\n",
       "    </tr>\n",
       "    <tr>\n",
       "      <th>1</th>\n",
       "      <td>1</td>\n",
       "      <td>0</td>\n",
       "      <td>0</td>\n",
       "      <td>0</td>\n",
       "      <td>0</td>\n",
       "      <td>0</td>\n",
       "      <td>0</td>\n",
       "      <td>0</td>\n",
       "      <td>0</td>\n",
       "      <td>0</td>\n",
       "      <td>...</td>\n",
       "      <td>0</td>\n",
       "      <td>0</td>\n",
       "      <td>0</td>\n",
       "      <td>0</td>\n",
       "      <td>0</td>\n",
       "      <td>0</td>\n",
       "      <td>0</td>\n",
       "      <td>0</td>\n",
       "      <td>0</td>\n",
       "      <td>0</td>\n",
       "    </tr>\n",
       "    <tr>\n",
       "      <th>2</th>\n",
       "      <td>1</td>\n",
       "      <td>0</td>\n",
       "      <td>0</td>\n",
       "      <td>0</td>\n",
       "      <td>0</td>\n",
       "      <td>0</td>\n",
       "      <td>0</td>\n",
       "      <td>0</td>\n",
       "      <td>0</td>\n",
       "      <td>0</td>\n",
       "      <td>...</td>\n",
       "      <td>0</td>\n",
       "      <td>0</td>\n",
       "      <td>0</td>\n",
       "      <td>0</td>\n",
       "      <td>0</td>\n",
       "      <td>0</td>\n",
       "      <td>0</td>\n",
       "      <td>0</td>\n",
       "      <td>0</td>\n",
       "      <td>0</td>\n",
       "    </tr>\n",
       "    <tr>\n",
       "      <th>3</th>\n",
       "      <td>1</td>\n",
       "      <td>0</td>\n",
       "      <td>0</td>\n",
       "      <td>0</td>\n",
       "      <td>0</td>\n",
       "      <td>0</td>\n",
       "      <td>0</td>\n",
       "      <td>0</td>\n",
       "      <td>0</td>\n",
       "      <td>0</td>\n",
       "      <td>...</td>\n",
       "      <td>0</td>\n",
       "      <td>0</td>\n",
       "      <td>0</td>\n",
       "      <td>0</td>\n",
       "      <td>0</td>\n",
       "      <td>0</td>\n",
       "      <td>0</td>\n",
       "      <td>0</td>\n",
       "      <td>0</td>\n",
       "      <td>0</td>\n",
       "    </tr>\n",
       "    <tr>\n",
       "      <th>4</th>\n",
       "      <td>1</td>\n",
       "      <td>0</td>\n",
       "      <td>0</td>\n",
       "      <td>0</td>\n",
       "      <td>0</td>\n",
       "      <td>0</td>\n",
       "      <td>0</td>\n",
       "      <td>0</td>\n",
       "      <td>0</td>\n",
       "      <td>0</td>\n",
       "      <td>...</td>\n",
       "      <td>0</td>\n",
       "      <td>0</td>\n",
       "      <td>0</td>\n",
       "      <td>0</td>\n",
       "      <td>0</td>\n",
       "      <td>0</td>\n",
       "      <td>0</td>\n",
       "      <td>0</td>\n",
       "      <td>0</td>\n",
       "      <td>0</td>\n",
       "    </tr>\n",
       "  </tbody>\n",
       "</table>\n",
       "<p>5 rows × 785 columns</p>\n",
       "</div>"
      ],
      "text/plain": [
       "   label  0  0.1  0.2  0.3  0.4  0.5  0.6  0.7  0.8  ...  0.548  0.549  0.550  \\\n",
       "0      1  0    0    0    0    0    0    0    0    0  ...      0      0      0   \n",
       "1      1  0    0    0    0    0    0    0    0    0  ...      0      0      0   \n",
       "2      1  0    0    0    0    0    0    0    0    0  ...      0      0      0   \n",
       "3      1  0    0    0    0    0    0    0    0    0  ...      0      0      0   \n",
       "4      1  0    0    0    0    0    0    0    0    0  ...      0      0      0   \n",
       "\n",
       "   0.551  0.552  0.553  0.554  0.555  0.556  0.557  \n",
       "0      0      0      0      0      0      0      0  \n",
       "1      0      0      0      0      0      0      0  \n",
       "2      0      0      0      0      0      0      0  \n",
       "3      0      0      0      0      0      0      0  \n",
       "4      0      0      0      0      0      0      0  \n",
       "\n",
       "[5 rows x 785 columns]"
      ]
     },
     "execution_count": 36,
     "metadata": {},
     "output_type": "execute_result"
    }
   ],
   "source": [
    "#check train data\n",
    "test_file.head()"
   ]
  },
  {
   "cell_type": "code",
   "execution_count": 37,
   "id": "dcfcfe23",
   "metadata": {},
   "outputs": [
    {
     "data": {
      "text/html": [
       "<div>\n",
       "<style scoped>\n",
       "    .dataframe tbody tr th:only-of-type {\n",
       "        vertical-align: middle;\n",
       "    }\n",
       "\n",
       "    .dataframe tbody tr th {\n",
       "        vertical-align: top;\n",
       "    }\n",
       "\n",
       "    .dataframe thead th {\n",
       "        text-align: right;\n",
       "    }\n",
       "</style>\n",
       "<table border=\"1\" class=\"dataframe\">\n",
       "  <thead>\n",
       "    <tr style=\"text-align: right;\">\n",
       "      <th></th>\n",
       "      <th>label</th>\n",
       "      <th>0</th>\n",
       "      <th>0.1</th>\n",
       "      <th>0.2</th>\n",
       "      <th>0.3</th>\n",
       "      <th>0.4</th>\n",
       "      <th>0.5</th>\n",
       "      <th>0.6</th>\n",
       "      <th>0.7</th>\n",
       "      <th>0.8</th>\n",
       "      <th>...</th>\n",
       "      <th>0.406</th>\n",
       "      <th>0.407</th>\n",
       "      <th>0.408</th>\n",
       "      <th>0.409</th>\n",
       "      <th>0.410</th>\n",
       "      <th>0.411</th>\n",
       "      <th>0.412</th>\n",
       "      <th>0.413</th>\n",
       "      <th>0.414</th>\n",
       "      <th>0.415</th>\n",
       "    </tr>\n",
       "  </thead>\n",
       "  <tbody>\n",
       "    <tr>\n",
       "      <th>0</th>\n",
       "      <td>7</td>\n",
       "      <td>0</td>\n",
       "      <td>0</td>\n",
       "      <td>0</td>\n",
       "      <td>0</td>\n",
       "      <td>0</td>\n",
       "      <td>0</td>\n",
       "      <td>0</td>\n",
       "      <td>0</td>\n",
       "      <td>0</td>\n",
       "      <td>...</td>\n",
       "      <td>0</td>\n",
       "      <td>0</td>\n",
       "      <td>0</td>\n",
       "      <td>0</td>\n",
       "      <td>0</td>\n",
       "      <td>0</td>\n",
       "      <td>0</td>\n",
       "      <td>0</td>\n",
       "      <td>0</td>\n",
       "      <td>0</td>\n",
       "    </tr>\n",
       "    <tr>\n",
       "      <th>1</th>\n",
       "      <td>16</td>\n",
       "      <td>0</td>\n",
       "      <td>0</td>\n",
       "      <td>0</td>\n",
       "      <td>0</td>\n",
       "      <td>0</td>\n",
       "      <td>0</td>\n",
       "      <td>0</td>\n",
       "      <td>0</td>\n",
       "      <td>0</td>\n",
       "      <td>...</td>\n",
       "      <td>0</td>\n",
       "      <td>0</td>\n",
       "      <td>0</td>\n",
       "      <td>0</td>\n",
       "      <td>0</td>\n",
       "      <td>0</td>\n",
       "      <td>0</td>\n",
       "      <td>0</td>\n",
       "      <td>0</td>\n",
       "      <td>0</td>\n",
       "    </tr>\n",
       "    <tr>\n",
       "      <th>2</th>\n",
       "      <td>15</td>\n",
       "      <td>0</td>\n",
       "      <td>0</td>\n",
       "      <td>0</td>\n",
       "      <td>0</td>\n",
       "      <td>0</td>\n",
       "      <td>0</td>\n",
       "      <td>0</td>\n",
       "      <td>0</td>\n",
       "      <td>0</td>\n",
       "      <td>...</td>\n",
       "      <td>0</td>\n",
       "      <td>0</td>\n",
       "      <td>0</td>\n",
       "      <td>0</td>\n",
       "      <td>0</td>\n",
       "      <td>0</td>\n",
       "      <td>0</td>\n",
       "      <td>0</td>\n",
       "      <td>0</td>\n",
       "      <td>0</td>\n",
       "    </tr>\n",
       "    <tr>\n",
       "      <th>3</th>\n",
       "      <td>23</td>\n",
       "      <td>0</td>\n",
       "      <td>0</td>\n",
       "      <td>0</td>\n",
       "      <td>0</td>\n",
       "      <td>0</td>\n",
       "      <td>0</td>\n",
       "      <td>0</td>\n",
       "      <td>0</td>\n",
       "      <td>0</td>\n",
       "      <td>...</td>\n",
       "      <td>0</td>\n",
       "      <td>0</td>\n",
       "      <td>0</td>\n",
       "      <td>0</td>\n",
       "      <td>0</td>\n",
       "      <td>0</td>\n",
       "      <td>0</td>\n",
       "      <td>0</td>\n",
       "      <td>0</td>\n",
       "      <td>0</td>\n",
       "    </tr>\n",
       "    <tr>\n",
       "      <th>4</th>\n",
       "      <td>17</td>\n",
       "      <td>0</td>\n",
       "      <td>0</td>\n",
       "      <td>0</td>\n",
       "      <td>0</td>\n",
       "      <td>0</td>\n",
       "      <td>0</td>\n",
       "      <td>0</td>\n",
       "      <td>0</td>\n",
       "      <td>0</td>\n",
       "      <td>...</td>\n",
       "      <td>0</td>\n",
       "      <td>0</td>\n",
       "      <td>0</td>\n",
       "      <td>0</td>\n",
       "      <td>0</td>\n",
       "      <td>0</td>\n",
       "      <td>0</td>\n",
       "      <td>0</td>\n",
       "      <td>0</td>\n",
       "      <td>0</td>\n",
       "    </tr>\n",
       "  </tbody>\n",
       "</table>\n",
       "<p>5 rows × 785 columns</p>\n",
       "</div>"
      ],
      "text/plain": [
       "   label  0  0.1  0.2  0.3  0.4  0.5  0.6  0.7  0.8  ...  0.406  0.407  0.408  \\\n",
       "0      7  0    0    0    0    0    0    0    0    0  ...      0      0      0   \n",
       "1     16  0    0    0    0    0    0    0    0    0  ...      0      0      0   \n",
       "2     15  0    0    0    0    0    0    0    0    0  ...      0      0      0   \n",
       "3     23  0    0    0    0    0    0    0    0    0  ...      0      0      0   \n",
       "4     17  0    0    0    0    0    0    0    0    0  ...      0      0      0   \n",
       "\n",
       "   0.409  0.410  0.411  0.412  0.413  0.414  0.415  \n",
       "0      0      0      0      0      0      0      0  \n",
       "1      0      0      0      0      0      0      0  \n",
       "2      0      0      0      0      0      0      0  \n",
       "3      0      0      0      0      0      0      0  \n",
       "4      0      0      0      0      0      0      0  \n",
       "\n",
       "[5 rows x 785 columns]"
      ]
     },
     "execution_count": 37,
     "metadata": {},
     "output_type": "execute_result"
    }
   ],
   "source": [
    "#list of all digits that are going to be predicted\n",
    "np.sort(train_file.label.unique())\n",
    "train_file.head()"
   ]
  },
  {
   "cell_type": "markdown",
   "id": "dc360e2a",
   "metadata": {},
   "source": [
    "## Splitting the training dataset into training and validation sets "
   ]
  },
  {
   "cell_type": "code",
   "execution_count": 38,
   "id": "66b3b6d0",
   "metadata": {},
   "outputs": [
    {
     "data": {
      "text/plain": [
       "(79919, 8879)"
      ]
     },
     "execution_count": 38,
     "metadata": {},
     "output_type": "execute_result"
    }
   ],
   "source": [
    "#define the number of samples for training set and for validation set\n",
    "num_train,num_validation = int(len(train_file)*0.9),int(len(train_file)*0.1)\n",
    "num_train,num_validation"
   ]
  },
  {
   "cell_type": "code",
   "execution_count": 39,
   "id": "5a1f971e",
   "metadata": {},
   "outputs": [],
   "source": [
    "#generate training data from train_file\n",
    "x_train,y_train=train_file.iloc[:num_train,1:].values,train_file.iloc[:num_train,0].values"
   ]
  },
  {
   "cell_type": "code",
   "execution_count": 40,
   "id": "1792f46c",
   "metadata": {},
   "outputs": [],
   "source": [
    "x_validation,y_validation=train_file.iloc[num_train:,1:].values,train_file.iloc[num_train:,0].values"
   ]
  },
  {
   "cell_type": "code",
   "execution_count": 41,
   "id": "429ae502",
   "metadata": {},
   "outputs": [
    {
     "name": "stdout",
     "output_type": "stream",
     "text": [
      "(79919, 784)\n",
      "(79919,)\n",
      "(8880, 784)\n",
      "(8880,)\n"
     ]
    }
   ],
   "source": [
    "print(x_train.shape)\n",
    "print(y_train.shape)\n",
    "print(x_validation.shape)\n",
    "print(y_validation.shape)"
   ]
  },
  {
   "cell_type": "code",
   "execution_count": 42,
   "id": "685281cb",
   "metadata": {},
   "outputs": [
    {
     "name": "stdout",
     "output_type": "stream",
     "text": [
      "Label: 22 as v\n"
     ]
    },
    {
     "data": {
      "text/plain": [
       "<matplotlib.image.AxesImage at 0x1e444cc44c0>"
      ]
     },
     "execution_count": 42,
     "metadata": {},
     "output_type": "execute_result"
    },
    {
     "data": {
      "image/png": "[encoded data removed]",
      "text/plain": [
       "<Figure size 432x288 with 1 Axes>"
      ]
     },
     "metadata": {
      "needs_background": "light"
     },
     "output_type": "display_data"
    }
   ],
   "source": [
    "#28 ,28 stands for height and width\n",
    "index=7\n",
    "alphabet=['a', 'b', 'c', 'd', 'e', 'f', 'g', 'h', 'i', \n",
    "          'j', 'k', 'l', 'm', 'n', 'o', 'p', 'q', 'r', 's', 't', 'u', 'v', 'w', 'x', 'y', 'z']\n",
    "\n",
    "print(\"Label: \" + str(y_train[index]) + ' as ' + alphabet[(y_train[index])-1])\n",
    "\n",
    "#image fixing\n",
    "image= x_train[index]\n",
    "image = image.reshape([28, 28])\n",
    "image = np.fliplr(image)\n",
    "image = np.rot90(image)\n",
    "plt.imshow(image)"
   ]
  },
  {
   "cell_type": "markdown",
   "id": "a72ab02b",
   "metadata": {},
   "source": [
    "## Training the Decision Tree model on the Training set"
   ]
  },
  {
   "cell_type": "code",
   "execution_count": 44,
   "id": "ad7b3b4f",
   "metadata": {},
   "outputs": [
    {
     "data": {
      "text/plain": [
       "DecisionTreeClassifier(criterion='entropy', max_depth=1, random_state=33)"
      ]
     },
     "execution_count": 44,
     "metadata": {},
     "output_type": "execute_result"
    }
   ],
   "source": [
    "#fit a Decision Tree Classifier\n",
    "clf=DecisionTreeClassifier(criterion='entropy',max_depth=14,random_state=33)\n",
    "clf.fit(x_train,y_train)"
   ]
  },
  {
   "cell_type": "markdown",
   "id": "09cb2673",
   "metadata": {},
   "source": [
    "## Predicting the Validation set results\n"
   ]
  },
  {
   "cell_type": "code",
   "execution_count": 45,
   "id": "9d0c0a7e",
   "metadata": {},
   "outputs": [],
   "source": [
    "#predict value of label using classifier\n",
    "prediction_validation = clf.predict(x_validation)"
   ]
  },
  {
   "cell_type": "code",
   "execution_count": 46,
   "id": "419d0f00",
   "metadata": {},
   "outputs": [
    {
     "name": "stdout",
     "output_type": "stream",
     "text": [
      "Validation Accuracy: 0.07454954954954955\n"
     ]
    }
   ],
   "source": [
    "print(\"Validation Accuracy: \" + str(accuracy_score(y_validation,prediction_validation)))"
   ]
  },
  {
   "cell_type": "code",
   "execution_count": 22,
   "id": "4e280d80",
   "metadata": {
    "scrolled": true
   },
   "outputs": [
    {
     "name": "stdout",
     "output_type": "stream",
     "text": [
      "Predicted 19 as s\n"
     ]
    },
    {
     "data": {
      "text/plain": [
       "<matplotlib.image.AxesImage at 0x1e44438f9d0>"
      ]
     },
     "execution_count": 22,
     "metadata": {},
     "output_type": "execute_result"
    },
    {
     "data": {
      "image/png": "[encoded data removed]",
      "text/plain": [
       "<Figure size 432x288 with 1 Axes>"
      ]
     },
     "metadata": {
      "needs_background": "light"
     },
     "output_type": "display_data"
    }
   ],
   "source": [
    "index=1001\n",
    "alphabet=['a', 'b', 'c', 'd', 'e', 'f', 'g', 'h', 'i', \n",
    "          'j', 'k', 'l', 'm', 'n', 'o', 'p', 'q', 'r', 's', 't', 'u', 'v', 'w', 'x', 'y', 'z']\n",
    "print(\"Predicted \" + str(y_validation[y_validation==prediction_validation][index]) + \" as \" + \n",
    "    alphabet[(y_validation[y_validation==prediction_validation][index])-1])\n",
    "\n",
    "#image fixing\n",
    "image= x_validation[y_validation==prediction_validation][index]\n",
    "image = image.reshape([28, 28])\n",
    "image = np.fliplr(image)\n",
    "image = np.rot90(image)\n",
    "plt.imshow(image)"
   ]
  },
  {
   "cell_type": "markdown",
   "id": "8b67e9e3",
   "metadata": {},
   "source": [
    "## Making The Confusion Matrix For Validation set"
   ]
  },
  {
   "cell_type": "code",
   "execution_count": 23,
   "id": "e1168b22",
   "metadata": {
    "scrolled": true
   },
   "outputs": [
    {
     "name": "stdout",
     "output_type": "stream",
     "text": [
      "Validation Confusion Matrix: \n",
      "[[206   2   6   5   2   2   7  17   0   1   6   0   9   8  14   1  19   9\n",
      "    2   4   5   0   3   2   0   3]\n",
      " [ 10 210   1  17   9   3  10   9   4   0   3   4   0   2   6   2   4   6\n",
      "    6   1   1   0   2   2   2   1]\n",
      " [  2   2 303   1  12   5   3   0   0   1   2   7   0   1   4   3   3   2\n",
      "    0   2   2   0   0   1   0   5]\n",
      " [  3  10   3 211   1   1   5   7   5   9   2   4   1   3  15   3   1   1\n",
      "    5   3   5   5   5   2   3   4]\n",
      " [  8   5  13   1 256   2   7   1   2   0   3   2   2   2   1   6   2   7\n",
      "    5   6   5   1   1   0   0   6]\n",
      " [  2   1   1   3   4 220   7   7   6   3   5   3   1   2   0  24   7  10\n",
      "    2  19   1   1   2   3   2   4]\n",
      " [ 13   8   9   3   8   7 164   3   2   8   0   2   0   0   5   5  45   7\n",
      "   13   4   4   1   0   2   3   4]\n",
      " [ 11   5   1   2   4   3   1 257   3   0  12   7   8  11   1   1   3   4\n",
      "    0   3   4   1   3   3   1   2]\n",
      " [  0   0   1   3   0   2   3   1 252   7   3  58   0   1   1   1   5   3\n",
      "    5   1   0   0   0   0   1   2]\n",
      " [  1   0   3  10   2   2   5   3   5 259   1   5   0   2   0   1   2   0\n",
      "   16   9   2   3   1   1   6   3]\n",
      " [  7   2  12   4   3   2   1  17   4   2 248   4   2   5   0   1   0  11\n",
      "    0   4   9   3   1  19   2   1]\n",
      " [  1   3   5   1   1   1   0   1  97   4   1 179   1   1   1   0   0   1\n",
      "    0   2   0   1   0   1   4   4]\n",
      " [  5   2   2   1   0   0   2  11   0   1   0   0 271  22   2   0   1   3\n",
      "    0   3   1   2   5   3   1   0]\n",
      " [ 13   1   1   0   2   2   0  10   1   2   6   0  14 233   3   0   6   8\n",
      "    1   0   7   6   9   5   2   3]\n",
      " [ 12   3   4   9   3   0   1   1   2   2   0   0   0   1 239   1   5   0\n",
      "    2   0   3   1   2   0   0   1]\n",
      " [  3   2   0   2   1  17   4   0   1   2   2   3   2   1   1 258  11   6\n",
      "    0   3   2   1   3   1   6   1]\n",
      " [ 16   3   4   8   7  12  33   1   4   3   2   5   2   3   8  10 195   7\n",
      "    4   2   8   0   4   3   6   5]\n",
      " [ 12   3   2   0   9   7   0   1   2   0   8   3   2   3   1   7   6 245\n",
      "    0  11   1   7   1   4   2   3]\n",
      " [  5   3   0   1   3   3   8   1   4  18   1   1   0   2   2   0  11   1\n",
      "  272   2   3   0   0   2   2   3]\n",
      " [  3   2   5   5   9  19   6   1   6   3   3   6   1   0   0   4   7  19\n",
      "    2 253   0   0   1   3   8   5]\n",
      " [  9   3   3   7   3   1   5   7   0   0   7   1   2   5   6   1   4   3\n",
      "    1   1 260  20   5   1   2   0]\n",
      " [  0   0   1   2   0   3   3   1   0   3   4   1   2   0   1   1   1  10\n",
      "    1   3  26 269   5   0  12   2]\n",
      " [  4   2   1   2   3   1   2   6   0   4   6   2   7  19   0   0   4   2\n",
      "    2   3   7   1 255   4   2   3]\n",
      " [  2   1   0   3   3   4   3   6   4   0  22   2   1   2   0   0   4   5\n",
      "    2   6   0   2   0 269   9   8]\n",
      " [  3   0   0   2   2   2   5   3   2   9   4   9   3   8   0   2   7   5\n",
      "    4   9   2  12   3   6 256   3]\n",
      " [  4   8   3   5   7   2   3   6   6   2   3   4   1   1   1   1   3   0\n",
      "    2   8   0   1   2   6   2 271]]\n"
     ]
    }
   ],
   "source": [
    "print(\"Validation Confusion Matrix: \\n\" + str(confusion_matrix(y_validation,prediction_validation)))"
   ]
  },
  {
   "cell_type": "code",
   "execution_count": 24,
   "id": "a9a19084",
   "metadata": {},
   "outputs": [
    {
     "data": {
      "image/png": "[encoded data removed]",
      "text/plain": [
       "<Figure size 540x540 with 1 Axes>"
      ]
     },
     "metadata": {
      "needs_background": "light"
     },
     "output_type": "display_data"
    }
   ],
   "source": [
    "matrix = confusion_matrix(y_validation,prediction_validation)\n",
    "fig, ax = plt.subplots(figsize=(7.5, 7.5))\n",
    "ax.matshow(matrix, cmap=plt.cm.Blues, alpha=0.3)\n",
    "for i in range(matrix.shape[0]):\n",
    "    for j in range(matrix.shape[1]):\n",
    "        ax.text(x=j, y=i,s=matrix[i, j], va='center', ha='center', size='larger')\n",
    "plt.xlabel('Predictions', fontsize=18)\n",
    "plt.ylabel('Actuals', fontsize=18)\n",
    "plt.title('Confusion Matrix', fontsize=18)\n",
    "plt.show()"
   ]
  },
  {
   "cell_type": "markdown",
   "id": "43c3eef8",
   "metadata": {},
   "source": [
    "## Splitting The Test Dataset"
   ]
  },
  {
   "cell_type": "code",
   "execution_count": 25,
   "id": "31d0a51b",
   "metadata": {},
   "outputs": [
    {
     "data": {
      "text/plain": [
       "((14799, 784), (14799,))"
      ]
     },
     "execution_count": 25,
     "metadata": {},
     "output_type": "execute_result"
    }
   ],
   "source": [
    "y_test = test_file['label']\n",
    "test_file=test_file.drop(\"label\", axis=1)\n",
    "x_test = test_file\n",
    "x_test.shape , y_test.shape"
   ]
  },
  {
   "cell_type": "markdown",
   "id": "9088e959",
   "metadata": {},
   "source": [
    "## Predicting the Test set results"
   ]
  },
  {
   "cell_type": "code",
   "execution_count": 26,
   "id": "8fe528ce",
   "metadata": {},
   "outputs": [
    {
     "data": {
      "text/plain": [
       "(14799,)"
      ]
     },
     "execution_count": 26,
     "metadata": {},
     "output_type": "execute_result"
    }
   ],
   "source": [
    "#predict test data\n",
    "prediction_test = clf.predict(x_test)\n",
    "prediction_test.shape"
   ]
  },
  {
   "cell_type": "code",
   "execution_count": 27,
   "id": "eb0adebf",
   "metadata": {},
   "outputs": [
    {
     "name": "stdout",
     "output_type": "stream",
     "text": [
      "Validation Accuracy: 0.6946415298330968\n"
     ]
    }
   ],
   "source": [
    "print(\"Validation Accuracy: \" + str(accuracy_score(y_test,prediction_test)))"
   ]
  },
  {
   "cell_type": "code",
   "execution_count": 28,
   "id": "cec1907d",
   "metadata": {},
   "outputs": [
    {
     "name": "stdout",
     "output_type": "stream",
     "text": [
      "Predicted b\n"
     ]
    },
    {
     "data": {
      "text/plain": [
       "<matplotlib.image.AxesImage at 0x1e4440231f0>"
      ]
     },
     "execution_count": 28,
     "metadata": {},
     "output_type": "execute_result"
    },
    {
     "data": {
      "image/png": "[encoded data removed]",
      "text/plain": [
       "<Figure size 432x288 with 1 Axes>"
      ]
     },
     "metadata": {
      "needs_background": "light"
     },
     "output_type": "display_data"
    }
   ],
   "source": [
    "index=1000\n",
    "alphabet=['a', 'b', 'c', 'd', 'e', 'f', 'g', 'h', 'i', \n",
    "          'j', 'k', 'l', 'm', 'n', 'o', 'p', 'q', 'r', 's', 't', 'u', 'v', 'w', 'x', 'y', 'z']\n",
    "print(\"Predicted \" + alphabet[(prediction_test[index])-1])\n",
    "\n",
    "#image fixing\n",
    "image= x_test.iloc[index].values\n",
    "image = image.reshape([28, 28])\n",
    "image = np.fliplr(image)\n",
    "image = np.rot90(image)\n",
    "plt.imshow(image)"
   ]
  },
  {
   "cell_type": "markdown",
   "id": "57fa7cd9",
   "metadata": {},
   "source": [
    "## Making The Confusion Matrix For Test set"
   ]
  },
  {
   "cell_type": "code",
   "execution_count": 29,
   "id": "033359b7",
   "metadata": {},
   "outputs": [
    {
     "name": "stdout",
     "output_type": "stream",
     "text": [
      "Validation Confusion Matrix: \n",
      "[[482  10  13   7  11   9  27  30   3   1   7   2  16  34  28  10  38  21\n",
      "    4   3  17   0   8   9   0   9]\n",
      " [ 15 544   8  43  12   5  33  16  11   6   8   7   6   5  13   6   6   7\n",
      "   11  11   7   1   5   4   4   6]\n",
      " [ 19   1 639   4  43  11   7   2   3   2   5  13   2   1  13   3   6  10\n",
      "    2   4   2   1   3   0   0   4]\n",
      " [ 16  38   2 514   1  10   7   8   4  23   8   6   6  12  64   5  12   1\n",
      "    6   8  13   7   7  10   1  11]\n",
      " [ 15   8  41   3 619   2   9   6   2   2  13   3   8   6  12   5  12  11\n",
      "    3   6   3   0   2   0   1   8]\n",
      " [  3   6   1   2  11 555  15   7   7   7  12  12   2   4   3  50  14  17\n",
      "    6  36   3   6   2   5   9   5]\n",
      " [ 32  27  19   8  16  17 395  13   4  13   8   8   3   3   9  12 125  10\n",
      "   36   8   2   4   2   3  16   7]\n",
      " [ 28  23   2  10   1   4   5 569   5   1  31  15   9  35   2   2   5   4\n",
      "    0   9  13   2  10   8   2   5]\n",
      " [  1   5   2   9   1   6   5   5 563  13   2 129   0   0   1   8   2   7\n",
      "    7  11   2   0   0   4   3  14]\n",
      " [  3   6   3  19   0   4  16   2  36 605   0  13   2   0   2   5   7   4\n",
      "   17  21   6   2   0   3  14  10]\n",
      " [ 11   7  16   5   9   9   5  29   7   3 528  14  10  10   0   8   6  25\n",
      "    0   7  19   6   7  35  16   8]\n",
      " [  0   3  10   4   5  10   2   6 244   6   6 464   0   2   1   5   0   6\n",
      "    3   6   2   1   0   3   3   8]\n",
      " [ 18   2   0   4   3   5   5  26   2   1   2   1 621  50   2   2   5   7\n",
      "    1   4   8   7  14   4   2   4]\n",
      " [ 43   5   1   8   4   3   6  35   1   5  18   2  33 544   5   3   4   7\n",
      "    0   3  18  12  31   2   3   4]\n",
      " [ 15  10   3  36   8   6   6   1   0   4   1   0   1   7 667   6   8   1\n",
      "    7   0   8   1   3   0   1   0]\n",
      " [  3   5   1   6   2  43  10   3   4   1   4   9   3   2   3 638  14  24\n",
      "    0  12   1   3   0   1   7   1]\n",
      " [ 46   9  16   5  12  18  83   7   6  12   6   4   4   6  16  22 438  15\n",
      "   12  14  17   1   6   6   8  11]\n",
      " [ 22   2   5   7  22  11   7   7   6   0  26   1   5  10   2  18  17 571\n",
      "    4  14   1  14   4  11  11   2]\n",
      " [  3   7   0   2   5   3  16   1   4  15   1   1   1   2   5   0   5   0\n",
      "  324   1   1   0   0   1   2   0]\n",
      " [  0   0   0   0   0   0   0   0   0   0   0   0   0   0   0   0   0   0\n",
      "    0   0   0   0   0   0   0   0]\n",
      " [  0   0   0   0   0   0   0   0   0   0   0   0   0   0   0   0   0   0\n",
      "    0   0   0   0   0   0   0   0]\n",
      " [  0   0   0   0   0   0   0   0   0   0   0   0   0   0   0   0   0   0\n",
      "    0   0   0   0   0   0   0   0]\n",
      " [  0   0   0   0   0   0   0   0   0   0   0   0   0   0   0   0   0   0\n",
      "    0   0   0   0   0   0   0   0]\n",
      " [  0   0   0   0   0   0   0   0   0   0   0   0   0   0   0   0   0   0\n",
      "    0   0   0   0   0   0   0   0]\n",
      " [  0   0   0   0   0   0   0   0   0   0   0   0   0   0   0   0   0   0\n",
      "    0   0   0   0   0   0   0   0]\n",
      " [  0   0   0   0   0   0   0   0   0   0   0   0   0   0   0   0   0   0\n",
      "    0   0   0   0   0   0   0   0]]\n"
     ]
    }
   ],
   "source": [
    "print(\"Validation Confusion Matrix: \\n\" + str(confusion_matrix(y_test,prediction_test)))"
   ]
  },
  {
   "cell_type": "code",
   "execution_count": 30,
   "id": "16c05a82",
   "metadata": {},
   "outputs": [
    {
     "data": {
      "image/png": "[encoded data removed]",
      "text/plain": [
       "<Figure size 540x540 with 1 Axes>"
      ]
     },
     "metadata": {
      "needs_background": "light"
     },
     "output_type": "display_data"
    }
   ],
   "source": [
    "matrix = confusion_matrix(y_test,prediction_test)\n",
    "fig, ax = plt.subplots(figsize=(7.5, 7.5))\n",
    "ax.matshow(matrix, cmap=plt.cm.Blues, alpha=0.3)\n",
    "for i in range(matrix.shape[0]):\n",
    "    for j in range(matrix.shape[1]):\n",
    "        ax.text(x=j, y=i,s=matrix[i, j], va='center', ha='center', size='larger')\n",
    "plt.xlabel('Predictions', fontsize=18)\n",
    "plt.ylabel('Actuals', fontsize=18)\n",
    "plt.title('Confusion Matrix', fontsize=18)\n",
    "plt.show()"
   ]
  },
  {
   "cell_type": "code",
   "execution_count": null,
   "id": "fca1ae5a",
   "metadata": {},
   "outputs": [],
   "source": []
  }
 ],
 "metadata": {
  "kernelspec": {
   "display_name": "Python 3 (ipykernel)",
   "language": "python",
   "name": "python3"
  },
  "language_info": {
   "codemirror_mode": {
    "name": "ipython",
    "version": 3
   },
   "file_extension": ".py",
   "mimetype": "text/x-python",
   "name": "python",
   "nbconvert_exporter": "python",
   "pygments_lexer": "ipython3",
   "version": "3.9.7"
  }
 },
 "nbformat": 4,
 "nbformat_minor": 5
}
